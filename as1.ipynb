{
 "cells": [
  {
   "cell_type": "code",
   "execution_count": 2,
   "id": "c410504d",
   "metadata": {},
   "outputs": [
    {
     "name": "stdout",
     "output_type": "stream",
     "text": [
      "Input the radius of the circle : 5\n",
      "The area of the circle with radius 5.0 is: 78.53981633974483\n"
     ]
    }
   ],
   "source": [
    "#circle area\n",
    "from math import pi\n",
    "r = float(input(\"Input the radius of the circle : \"))\n",
    "area = pi * r ** 2\n",
    "print(\"The area of the circle with radius \" + str(r) + \" is: \" + str(area))"
   ]
  },
  {
   "cell_type": "code",
   "execution_count": 3,
   "id": "ae453c04",
   "metadata": {},
   "outputs": [
    {
     "name": "stdout",
     "output_type": "stream",
     "text": [
      "Enter side of squre:4\n",
      "The area of squre 16\n"
     ]
    }
   ],
   "source": [
    "#Area of squre\n",
    "a=int(input(\"Enter side of squre:\"))\n",
    "area=a*a\n",
    "print(\"The area of squre\",area)"
   ]
  },
  {
   "cell_type": "code",
   "execution_count": 8,
   "id": "730a6c8b",
   "metadata": {},
   "outputs": [
    {
     "name": "stdout",
     "output_type": "stream",
     "text": [
      "Enter the base:5\n",
      "Enter the height:8\n",
      "The area of triangle 20.0\n"
     ]
    }
   ],
   "source": [
    "#Area of triangle\n",
    "b=int(input(\"Enter the base:\"))\n",
    "h=int(input(\"Enter the height:\"))\n",
    "area=1/2*b*h\n",
    "print(\"The area of triangle\",area)"
   ]
  },
  {
   "cell_type": "code",
   "execution_count": 14,
   "id": "9489a1b2",
   "metadata": {},
   "outputs": [
    {
     "name": "stdout",
     "output_type": "stream",
     "text": [
      "enter the color:red,green,blue\n",
      "first color: red,green,blue\n",
      "last color : red,green,blue\n"
     ]
    }
   ],
   "source": [
    "s=str(input(\"enter the color:\"))\n",
    "p=s.split(\".\")\n",
    "print(\"first color:\",p[0])\n",
    "print(\"last color :\",p[-1])"
   ]
  },
  {
   "cell_type": "code",
   "execution_count": 19,
   "id": "d1d4e4fd",
   "metadata": {},
   "outputs": [
    {
     "name": "stdout",
     "output_type": "stream",
     "text": [
      "enter a number\n",
      "5\n",
      "enter second number7\n",
      "1.sum\n",
      "2.subtract\n",
      "3.multiply\n",
      "4.division\n",
      "5.exit...\n",
      "enter your choice:1\n",
      "sum= 12\n",
      "1.sum\n",
      "2.subtract\n",
      "3.multiply\n",
      "4.division\n",
      "5.exit...\n",
      "enter your choice:4\n",
      "division= 0.7142857142857143\n",
      "1.sum\n",
      "2.subtract\n",
      "3.multiply\n",
      "4.division\n",
      "5.exit...\n",
      "enter your choice:3\n",
      "multiply= 35\n",
      "1.sum\n",
      "2.subtract\n",
      "3.multiply\n",
      "4.division\n",
      "5.exit...\n",
      "enter your choice:5\n",
      "existing...\n"
     ]
    }
   ],
   "source": [
    "n=int(input(\"enter a number\\n\"))\n",
    "m=int(input(\"enter second number\"))\n",
    "while(1):\n",
    "    print(\"1.sum\\n2.subtract\\n3.multiply\\n4.division\\n5.exit...\")\n",
    "    ch=int(input(\"enter your choice:\"))\n",
    "    if(ch==1):\n",
    "        print(\"sum=\",n+m)\n",
    "    elif(ch==2):\n",
    "        print(\"subtract=\",n-m)\n",
    "    elif(ch==3):\n",
    "        print(\"multiply=\",n*m)\n",
    "    elif(ch==4):\n",
    "        print(\"division=\",n/m)\n",
    "    else:\n",
    "        print(\"existing...\")\n",
    "        break\n",
    "        "
   ]
  },
  {
   "cell_type": "code",
   "execution_count": null,
   "id": "1d70769e",
   "metadata": {},
   "outputs": [
    {
     "name": "stdout",
     "output_type": "stream",
     "text": [
      "enter the string1\n",
      "rohith\n",
      "enter the string2\n",
      "kannur\n",
      "1.length of string\n",
      "2.slicing of string\n",
      "3.uppercase\n",
      "4.lowercase\n",
      "5.replace\n",
      "6.concatenate\n",
      "7.exit..\n"
     ]
    }
   ],
   "source": [
    "s1=str(input(\"enter the string1\\n\"))\n",
    "s2=str(input(\"enter the string2\\n\"))\n",
    "while(1):\n",
    "    print(\"1.length of string\\n2.slicing of string\\n3.uppercase\\n4.lowercase\\n5.replace\\n6.concatenate\\n7.exit..\")\n",
    "    ch=int(input(\"enter your choice:\"))\n",
    "    if(ch==1):\n",
    "        print(\"length=\",len(s2))\n",
    "    elif(ch==2):\n",
    "        print(s1[2:])\n",
    "    elif(ch==3):\n",
    "        print(\"uppercase=\",s1.upper())\n",
    "    elif(ch==4):\n",
    "        print(\"lowercase=\",s2.lower())\n",
    "    elif(ch==5):\n",
    "        print(\"after replacing=\",s2.replace(\"o\",\"r\"))\n",
    "    elif(ch==6):\n",
    "        s=s1+s2\n",
    "        print(\"after concatenate=\",s)\n",
    "    else:\n",
    "        print(\"exiting..\")\n",
    "        break\n",
    "        \n",
    "    "
   ]
  },
  {
   "cell_type": "code",
   "execution_count": 24,
   "id": "bd486f17",
   "metadata": {},
   "outputs": [
    {
     "name": "stdout",
     "output_type": "stream",
     "text": [
      "The original list is : ['Gfg', 'is', 'best', 'for', 'Geeks']\n",
      "List after performing character swaps : ['efg', 'is', 'bGst', 'for', 'eGGks']\n"
     ]
    }
   ],
   "source": [
    "test_list = ['Gfg', 'is', 'best', 'for', 'Geeks']\n",
    "print(\"The original list is : \" + str(test_list))\n",
    "res = [sub.replace('G', '-').replace('e', 'G').replace('-', 'e') for sub in test_list]\n",
    "print (\"List after performing character swaps : \" + str(res))"
   ]
  },
  {
   "cell_type": "code",
   "execution_count": 21,
   "id": "0c578b6b",
   "metadata": {},
   "outputs": [
    {
     "name": "stdout",
     "output_type": "stream",
     "text": [
      "Sum of elements in the list: 15\n"
     ]
    }
   ],
   "source": [
    "def sum_of_list(lst):\n",
    "    total = 0\n",
    "    for num in lst:\n",
    "        total += num\n",
    "    return total\n",
    "\n",
    "# Example usage:\n",
    "my_list = [1, 2, 3, 4, 5]\n",
    "print(\"Sum of elements in the list:\", sum_of_list(my_list))\n"
   ]
  },
  {
   "cell_type": "code",
   "execution_count": 1,
   "id": "2bc86b77",
   "metadata": {},
   "outputs": [
    {
     "name": "stdout",
     "output_type": "stream",
     "text": [
      "Largest number: 9\n"
     ]
    }
   ],
   "source": [
    "#Largest number\n",
    "a = (1, 5, 3, 9)\n",
    "print(\"Largest number:\",max(a))"
   ]
  },
  {
   "cell_type": "code",
   "execution_count": 5,
   "id": "0751a877",
   "metadata": {},
   "outputs": [
    {
     "ename": "IndentationError",
     "evalue": "unexpected indent (2229312281.py, line 2)",
     "output_type": "error",
     "traceback": [
      "\u001b[0;36m  File \u001b[0;32m\"/tmp/ipykernel_4475/2229312281.py\"\u001b[0;36m, line \u001b[0;32m2\u001b[0m\n\u001b[0;31m    t = [1, 2, 3, 7,9,8]\u001b[0m\n\u001b[0m    ^\u001b[0m\n\u001b[0;31mIndentationError\u001b[0m\u001b[0;31m:\u001b[0m unexpected indent\n"
     ]
    }
   ],
   "source": [
    "#Removing duplicate\n",
    " t = [1, 2, 3, 7,9,8]\n",
    " t=list(set(t))\n",
    " s=[1, 2, 3, 5, 6, 7, 8]\n",
    " s=list(set(t) - set(s))"
   ]
  },
  {
   "cell_type": "code",
   "execution_count": 4,
   "id": "ff0b2291",
   "metadata": {},
   "outputs": [
    {
     "name": "stdout",
     "output_type": "stream",
     "text": [
      "The original list is : [1, 5, 3, 6, 3, 5, 6, 1]\n",
      "The list after removing duplicates : [1, 3, 5, 6]\n"
     ]
    }
   ],
   "source": [
    "# initializing list\n",
    "test_list = [1, 5, 3, 6, 3, 5, 6, 1]\n",
    "print (\"The original list is : \"\n",
    "        + str(test_list))\n",
    "\n",
    "\n",
    "test_list = list(set(test_list))\n",
    "\n",
    "\n",
    "print (\"The list after removing duplicates : \"\n",
    "        + str(test_list))\n"
   ]
  },
  {
   "cell_type": "code",
   "execution_count": 6,
   "id": "751eae1d",
   "metadata": {},
   "outputs": [
    {
     "name": "stdout",
     "output_type": "stream",
     "text": [
      "None\n",
      "{'d': 6, 'c': 4, 'a': 10, 'b': 8}\n"
     ]
    }
   ],
   "source": [
    "# Python code to merge dict\n",
    "def Merge(dict1, dict2):\n",
    "    return(dict2.update(dict1))\n",
    "\n",
    "\n",
    "\n",
    "dict1 = {'a': 10, 'b': 8}\n",
    "dict2 = {'d': 6, 'c': 4}\n",
    "\n",
    "\n",
    "print(Merge(dict1, dict2))\n",
    "\n",
    "\n",
    "print(dict2)\n"
   ]
  },
  {
   "cell_type": "code",
   "execution_count": 7,
   "id": "153bb32f",
   "metadata": {},
   "outputs": [
    {
     "name": "stdout",
     "output_type": "stream",
     "text": [
      "True\n",
      "True\n",
      "List have at least one common member\n"
     ]
    }
   ],
   "source": [
    "#Common Member\n",
    "list1=[1,2,3,4,5,6]\n",
    "list2=[5,6,7,8,9,10]\n",
    "result=False\n",
    "for x in list1:\n",
    "    for y in list2:\n",
    "        if x==y:\n",
    "            result=True\n",
    "            print(result)\n",
    "if result:\n",
    "    print(\"List have at least one common member\")\n",
    "else:\n",
    "    print(\"List do not have any common member\")\n"
   ]
  },
  {
   "cell_type": "code",
   "execution_count": null,
   "id": "8c60b077",
   "metadata": {},
   "outputs": [],
   "source": []
  }
 ],
 "metadata": {
  "kernelspec": {
   "display_name": "Python 3 (ipykernel)",
   "language": "python",
   "name": "python3"
  },
  "language_info": {
   "codemirror_mode": {
    "name": "ipython",
    "version": 3
   },
   "file_extension": ".py",
   "mimetype": "text/x-python",
   "name": "python",
   "nbconvert_exporter": "python",
   "pygments_lexer": "ipython3",
   "version": "3.10.12"
  }
 },
 "nbformat": 4,
 "nbformat_minor": 5
}
