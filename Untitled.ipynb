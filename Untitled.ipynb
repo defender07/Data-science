{
 "cells": [
  {
   "cell_type": "code",
   "execution_count": 5,
   "id": "9c78a547",
   "metadata": {},
   "outputs": [
    {
     "name": "stdout",
     "output_type": "stream",
     "text": [
      "Matrix operation\n",
      "a x b: \n",
      " [[30  3]\n",
      " [94 15]]\n",
      "a + b: \n",
      " [[30  3]\n",
      " [94 15]]\n",
      "[[1 5]\n",
      " [3 7]]\n"
     ]
    }
   ],
   "source": [
    "#Matrix\n",
    "import numpy as np\n",
    "print(\"Matrix operation\")\n",
    "a= np.array([[1, 3], \n",
    "            [5, 7]])\n",
    "b= np.array([[9, 3], \n",
    "            [7, 0]])\n",
    "result = np.dot(a, b)\n",
    "print(\"a x b: \\n\",result)\n",
    "c=np.dot(a,b)\n",
    "print(\"a + b: \\n\",c)\n",
    "d = np.transpose(a)\n",
    "print(d)\n"
   ]
  },
  {
   "cell_type": "code",
   "execution_count": 8,
   "id": "e0253ac0",
   "metadata": {},
   "outputs": [
    {
     "name": "stdout",
     "output_type": "stream",
     "text": [
      "Largest number: 9\n"
     ]
    }
   ],
   "source": [
    "a = (1, 5, 3, 9)\n",
    "print(\"Largest number:\",max(a))"
   ]
  },
  {
   "cell_type": "code",
   "execution_count": null,
   "id": "3e238440",
   "metadata": {},
   "outputs": [],
   "source": []
  }
 ],
 "metadata": {
  "kernelspec": {
   "display_name": "Python 3 (ipykernel)",
   "language": "python",
   "name": "python3"
  },
  "language_info": {
   "codemirror_mode": {
    "name": "ipython",
    "version": 3
   },
   "file_extension": ".py",
   "mimetype": "text/x-python",
   "name": "python",
   "nbconvert_exporter": "python",
   "pygments_lexer": "ipython3",
   "version": "3.10.12"
  }
 },
 "nbformat": 4,
 "nbformat_minor": 5
}
